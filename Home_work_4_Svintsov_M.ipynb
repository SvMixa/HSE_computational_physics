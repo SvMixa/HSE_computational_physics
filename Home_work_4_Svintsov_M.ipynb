{
 "cells": [
  {
   "cell_type": "markdown",
   "metadata": {},
   "source": [
    "## Task1"
   ]
  },
  {
   "cell_type": "code",
   "execution_count": 4,
   "metadata": {},
   "outputs": [],
   "source": [
    "import numpy as np\n",
    "import matplotlib.pyplot as plt\n",
    "%matplotlib inline"
   ]
  },
  {
   "cell_type": "code",
   "execution_count": 9,
   "metadata": {},
   "outputs": [
    {
     "data": {
      "image/png": "[encoded data removed]",
      "text/plain": [
       "<Figure size 504x504 with 1 Axes>"
      ]
     },
     "metadata": {
      "needs_background": "light"
     },
     "output_type": "display_data"
    }
   ],
   "source": [
    "n = 1000\n",
    "a = np.random.normal(0, 1, (n, n))\n",
    "A = a + a.T\n",
    "plt.figure(figsize=(7, 7))\n",
    "plt.hist(np.linalg.eigvalsh(A), bins=14)\n",
    "plt.show()"
   ]
  },
  {
   "cell_type": "markdown",
   "metadata": {},
   "source": [
    "## Task 2"
   ]
  },
  {
   "cell_type": "code",
   "execution_count": 70,
   "metadata": {},
   "outputs": [
    {
     "data": {
      "image/png": "[encoded data removed]",
      "text/plain": [
       "<Figure size 432x288 with 1 Axes>"
      ]
     },
     "metadata": {
      "needs_background": "light"
     },
     "output_type": "display_data"
    }
   ],
   "source": [
    "n = 10\n",
    "a = np.random.normal(0, 1, (n, n))\n",
    "A = a + a.T\n",
    "B = A.copy()\n",
    "eigen_val = np.sort(np.linalg.eigvalsh(A))\n",
    "plt.imshow(A)\n",
    "plt.show()"
   ]
  },
  {
   "cell_type": "markdown",
   "metadata": {},
   "source": [
    "Так как наша матрица симметрична, то у нас не будет комплексно сопряженных собсвенных чисел и значит матрица, к которой мы будем стремится итерациями будет верхнетреугольной."
   ]
  },
  {
   "cell_type": "code",
   "execution_count": 66,
   "metadata": {},
   "outputs": [
    {
     "data": {
      "text/plain": [
       "<matplotlib.image.AxesImage at 0x7ff68a779278>"
      ]
     },
     "execution_count": 66,
     "metadata": {},
     "output_type": "execute_result"
    },
    {
     "data": {
      "image/png": "[encoded data removed]",
      "text/plain": [
       "<Figure size 432x288 with 1 Axes>"
      ]
     },
     "metadata": {
      "needs_background": "light"
     },
     "output_type": "display_data"
    }
   ],
   "source": [
    "for i in range(100):\n",
    "    Q, R = np.linalg.qr(A)\n",
    "    A = R @ Q\n",
    "plt.imshow(A)"
   ]
  },
  {
   "cell_type": "code",
   "execution_count": 67,
   "metadata": {},
   "outputs": [
    {
     "data": {
      "text/plain": [
       "(array([-5.67431701, -4.47645716, -4.02183571, -2.73210721, -0.50930127,\n",
       "         0.4773232 ,  1.73548744,  3.64692713,  4.29242373,  7.33372585]),\n",
       " array([-5.67431701, -4.47705432, -4.0220443 , -2.73210721, -0.51093697,\n",
       "         0.4789589 ,  1.73548744,  3.64692714,  4.29322948,  7.33372585]))"
      ]
     },
     "execution_count": 67,
     "metadata": {},
     "output_type": "execute_result"
    }
   ],
   "source": [
    "val = []\n",
    "for i in range(len(A)):\n",
    "    val.append(A[i][i])\n",
    "val = np.sort(val)\n",
    "val, eigen_val"
   ]
  },
  {
   "cell_type": "code",
   "execution_count": 68,
   "metadata": {},
   "outputs": [
    {
     "data": {
      "image/png": "[encoded data removed]",
      "text/plain": [
       "<Figure size 432x288 with 1 Axes>"
      ]
     },
     "metadata": {
      "needs_background": "light"
     },
     "output_type": "display_data"
    },
    {
     "data": {
      "image/png": "[encoded data removed]",
      "text/plain": [
       "<Figure size 432x288 with 1 Axes>"
      ]
     },
     "metadata": {
      "needs_background": "light"
     },
     "output_type": "display_data"
    }
   ],
   "source": [
    "plt.hist(eigen_val, color='red')\n",
    "plt.title(\"np.linalg.eigvalsh\")\n",
    "plt.show()\n",
    "plt.hist(val)\n",
    "plt.title(\"QR\")\n",
    "plt.show()"
   ]
  },
  {
   "cell_type": "code",
   "execution_count": 71,
   "metadata": {},
   "outputs": [
    {
     "name": "stdout",
     "output_type": "stream",
     "text": [
      "Количество итераций = 27\n"
     ]
    },
    {
     "data": {
      "image/png": "[encoded data removed]",
      "text/plain": [
       "<Figure size 432x288 with 1 Axes>"
      ]
     },
     "metadata": {
      "needs_background": "light"
     },
     "output_type": "display_data"
    }
   ],
   "source": [
    "iteration = 0\n",
    "minn = 0.5 * abs(min(eigen_val))\n",
    "A = B.copy()\n",
    "while abs(minn - min(eigen_val)) > 0.01 * abs(min(eigen_val)):\n",
    "    iteration += 1\n",
    "    Q, R = np.linalg.qr(A)\n",
    "    A = R @ Q\n",
    "    val = []\n",
    "    for i in range(len(A)):\n",
    "        val.append(A[i][i])\n",
    "    minn = min(val)\n",
    "plt.imshow(A)\n",
    "print('Количество итераций =', iteration)"
   ]
  },
  {
   "cell_type": "markdown",
   "metadata": {},
   "source": [
    "## Task 3"
   ]
  },
  {
   "cell_type": "markdown",
   "metadata": {},
   "source": [
    "have no idea, why eigenvalues will be change"
   ]
  },
  {
   "cell_type": "markdown",
   "metadata": {},
   "source": [
    "## Task 4"
   ]
  },
  {
   "cell_type": "code",
   "execution_count": 75,
   "metadata": {},
   "outputs": [],
   "source": [
    "A = np.array([[3,1,0,0], [1,2,0,1], [0,0,1,1], [0,1,1,1]])"
   ]
  },
  {
   "cell_type": "code",
   "execution_count": 91,
   "metadata": {},
   "outputs": [
    {
     "data": {
      "text/plain": [
       "(array([ 3.75080042, -0.28399787,  1.21473855,  2.3184589 ]),\n",
       " array([[-0.77250966,  0.11203111, -0.35688275,  0.51313991],\n",
       "        [-0.58000058, -0.36790993,  0.63712901, -0.34972594],\n",
       "        [-0.08832178, -0.56719284, -0.66792899, -0.4736691 ],\n",
       "        [-0.2429556 ,  0.7282744 , -0.1434301 , -0.62451324]]))"
      ]
     },
     "execution_count": 91,
     "metadata": {},
     "output_type": "execute_result"
    }
   ],
   "source": [
    "np.linalg.eig(A)"
   ]
  },
  {
   "cell_type": "code",
   "execution_count": 104,
   "metadata": {},
   "outputs": [],
   "source": [
    "v0 = abs(np.linalg.eig(A)[1][:,0])\n",
    "v0 = v0/np.linalg.norm(v0)"
   ]
  },
  {
   "cell_type": "code",
   "execution_count": 86,
   "metadata": {},
   "outputs": [],
   "source": [
    "def pow_iteration(A, n=10):\n",
    "    v = np.random.random(4)\n",
    "    v /= np.sqrt(v @ v)\n",
    "    for i in range(n):\n",
    "        v = A @ v\n",
    "        v /= np.sqrt(v @ v)\n",
    "    return (sum(vi ** 2 for vi in A @ v) / sum(vi ** 2 for vi in v))**0.5"
   ]
  },
  {
   "cell_type": "code",
   "execution_count": 87,
   "metadata": {},
   "outputs": [
    {
     "data": {
      "text/plain": [
       "3.750727155876005"
      ]
     },
     "execution_count": 87,
     "metadata": {},
     "output_type": "execute_result"
    }
   ],
   "source": [
    "pow_iteration(A)"
   ]
  },
  {
   "cell_type": "code",
   "execution_count": 111,
   "metadata": {},
   "outputs": [
    {
     "name": "stdout",
     "output_type": "stream",
     "text": [
      "Потребовалось 12 итераций\n"
     ]
    }
   ],
   "source": [
    "v = np.random.random(4)\n",
    "v /= np.sqrt(v @ v)\n",
    "iteration = 0\n",
    "while np.linalg.norm(v0 - v) > 10**(-3):\n",
    "    v = A @ v\n",
    "    v /= np.sqrt(v @ v)\n",
    "    iteration += 1\n",
    "print('Потребовалось', iteration, 'итераций')"
   ]
  },
  {
   "cell_type": "code",
   "execution_count": 88,
   "metadata": {},
   "outputs": [],
   "source": [
    "def revers_iteration(A, w, n=10):\n",
    "    v = np.random.random(4)\n",
    "    v /= np.sqrt(v @ v)\n",
    "    for i in range(n):\n",
    "        v = np.linalg.pinv(A - w*np.identity(len(A))) @ v\n",
    "        v /= np.sqrt(v @ v)\n",
    "    return (sum(vi ** 2 for vi in A @ v) / sum(vi ** 2 for vi in v))**0.5"
   ]
  },
  {
   "cell_type": "code",
   "execution_count": 89,
   "metadata": {},
   "outputs": [
    {
     "data": {
      "text/plain": [
       "3.750800422060879"
      ]
     },
     "execution_count": 89,
     "metadata": {},
     "output_type": "execute_result"
    }
   ],
   "source": [
    "revers_iteration(A, 3.5)"
   ]
  },
  {
   "cell_type": "code",
   "execution_count": 114,
   "metadata": {},
   "outputs": [
    {
     "name": "stdout",
     "output_type": "stream",
     "text": [
      "Потребовалось 5 итераций\n"
     ]
    }
   ],
   "source": [
    "v = np.random.random(4)\n",
    "v /= np.sqrt(v @ v)\n",
    "iteration = 0\n",
    "w = 3.5\n",
    "while np.linalg.norm(v0 - v) > 10**(-3):\n",
    "    v = np.linalg.pinv(A - w*np.identity(len(A))) @ v\n",
    "    v /= np.sqrt(v @ v)\n",
    "    iteration += 1\n",
    "print('Потребовалось', iteration, 'итераций')"
   ]
  },
  {
   "cell_type": "code",
   "execution_count": 90,
   "metadata": {},
   "outputs": [
    {
     "data": {
      "text/plain": [
       "3.750800422060916"
      ]
     },
     "execution_count": 90,
     "metadata": {},
     "output_type": "execute_result"
    }
   ],
   "source": [
    "revers_iteration(A, 3.7)"
   ]
  },
  {
   "cell_type": "code",
   "execution_count": 121,
   "metadata": {},
   "outputs": [
    {
     "name": "stdout",
     "output_type": "stream",
     "text": [
      "Потребовалось 2 итерации\n"
     ]
    }
   ],
   "source": [
    "v = np.random.random(4)\n",
    "v /= np.sqrt(v @ v)\n",
    "iteration = 0\n",
    "w = 3.7\n",
    "while np.linalg.norm(v0 - v) > 10**(-3):\n",
    "    v = np.linalg.pinv(A - w*np.identity(len(A))) @ v\n",
    "    v /= np.sqrt(v @ v)\n",
    "    iteration += 1\n",
    "print('Потребовалось', iteration, 'итерации')"
   ]
  }
 ],
 "metadata": {
  "kernelspec": {
   "display_name": "Python 3",
   "language": "python",
   "name": "python3"
  },
  "language_info": {
   "codemirror_mode": {
    "name": "ipython",
    "version": 3
   },
   "file_extension": ".py",
   "mimetype": "text/x-python",
   "name": "python",
   "nbconvert_exporter": "python",
   "pygments_lexer": "ipython3",
   "version": "3.7.3"
  }
 },
 "nbformat": 4,
 "nbformat_minor": 2
}
