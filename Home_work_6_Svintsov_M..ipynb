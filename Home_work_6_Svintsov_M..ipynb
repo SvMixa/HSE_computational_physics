{
 "cells": [
  {
   "cell_type": "code",
   "execution_count": 1,
   "metadata": {},
   "outputs": [],
   "source": [
    "import numpy as np\n",
    "import matplotlib.pyplot as plt\n",
    "from jupyterthemes import jtplot"
   ]
  },
  {
   "cell_type": "markdown",
   "metadata": {},
   "source": [
    "# Task1"
   ]
  },
  {
   "cell_type": "markdown",
   "metadata": {},
   "source": [
    "Решим уравнение\n",
    "$1 + cosx = 0$\n",
    "с помощью метода простой итерации\n",
    "$x_{k+1} = x_k + \\frac{cos(x_k) + 1}{sin(x_k)}$"
   ]
  },
  {
   "cell_type": "code",
   "execution_count": 4,
   "metadata": {},
   "outputs": [],
   "source": [
    "def simple_iter(x):\n",
    "    return x + (np.cos(x) + 1)/np.sin(x)"
   ]
  },
  {
   "cell_type": "code",
   "execution_count": 6,
   "metadata": {},
   "outputs": [
    {
     "data": {
      "text/plain": [
       "array([1.        , 2.83048772, 2.98730706, 3.06460325, 3.10311698,\n",
       "       3.12235719, 3.13197522, 3.13678397, 3.13918832, 3.14039049])"
      ]
     },
     "execution_count": 6,
     "metadata": {},
     "output_type": "execute_result"
    }
   ],
   "source": [
    "n = 10\n",
    "x = np.zeros(n)\n",
    "x[0] = 1\n",
    "for i in range(1, n):\n",
    "    x[i] = simple_iter(x[i-1])\n",
    "x"
   ]
  },
  {
   "cell_type": "markdown",
   "metadata": {},
   "source": [
    "Построим ошибку"
   ]
  },
  {
   "cell_type": "code",
   "execution_count": 25,
   "metadata": {},
   "outputs": [
    {
     "data": {
      "image/png": "[encoded data removed]",
      "text/plain": [
       "<Figure size 460.8x403.2 with 1 Axes>"
      ]
     },
     "metadata": {},
     "output_type": "display_data"
    }
   ],
   "source": [
    "jtplot.style(theme='solarizedd')\n",
    "plt.scatter(range(n), np.log((x - np.pi)**2), color='red')\n",
    "plt.show()"
   ]
  },
  {
   "cell_type": "markdown",
   "metadata": {},
   "source": [
    "Видно, что сходимость линейнейная."
   ]
  },
  {
   "cell_type": "markdown",
   "metadata": {},
   "source": [
    "Теперт решим второе уравнени $$x^2 = 2$$ с помощью формулы \n",
    "$$x_{k+1} = \\frac{1}{2}(x_k + \\frac{2}{x_k})$$"
   ]
  },
  {
   "cell_type": "code",
   "execution_count": 26,
   "metadata": {},
   "outputs": [],
   "source": [
    "def simple_iter(x):\n",
    "    return 0.5*(x + 2/x)"
   ]
  },
  {
   "cell_type": "code",
   "execution_count": 27,
   "metadata": {},
   "outputs": [
    {
     "data": {
      "text/plain": [
       "array([1.        , 1.5       , 1.41666667, 1.41421569, 1.41421356,\n",
       "       1.41421356, 1.41421356, 1.41421356, 1.41421356, 1.41421356])"
      ]
     },
     "execution_count": 27,
     "metadata": {},
     "output_type": "execute_result"
    }
   ],
   "source": [
    "n = 10\n",
    "x = np.zeros(n)\n",
    "x[0] = 1\n",
    "for i in range(1, n):\n",
    "    x[i] = simple_iter(x[i-1])\n",
    "x"
   ]
  },
  {
   "cell_type": "markdown",
   "metadata": {},
   "source": [
    "Построим ошибку"
   ]
  },
  {
   "cell_type": "code",
   "execution_count": 29,
   "metadata": {},
   "outputs": [
    {
     "data": {
      "image/png": "[encoded data removed]",
      "text/plain": [
       "<Figure size 460.8x403.2 with 1 Axes>"
      ]
     },
     "metadata": {},
     "output_type": "display_data"
    }
   ],
   "source": [
    "plt.scatter(range(n), np.log((x - 2**0.5)**2), color='red')\n",
    "plt.show()"
   ]
  },
  {
   "cell_type": "markdown",
   "metadata": {},
   "source": [
    "Видно, что зависимость не линейная, а скорее квадратичная."
   ]
  },
  {
   "cell_type": "markdown",
   "metadata": {},
   "source": [
    "# Task2"
   ]
  },
  {
   "cell_type": "code",
   "execution_count": 67,
   "metadata": {},
   "outputs": [],
   "source": [
    "def simple_iteration(f, fder, x):\n",
    "    return x - f(x)/fder(x)\n",
    "\n",
    "def newton_iteration(f, fder, x0, eps=1e-5, maxiter=1000):\n",
    "    \"\"\"Newton's root finding method for f(x)=0\n",
    "    Parameters\n",
    "    ----------\n",
    "    f : callable\n",
    "        Function f.\n",
    "    fder : callable\n",
    "        Derivative of f.\n",
    "    x0 : float\n",
    "        Initial point for iterations.\n",
    "    eps : float\n",
    "        Requested accuracy.\n",
    "    maxiter : int\n",
    "        Maximal number of iterations.\n",
    "    \n",
    "    Returns\n",
    "    -------\n",
    "    x : float\n",
    "        Approximate root.\n",
    "    niter : int\n",
    "        Number of iterations.\n",
    "    \"\"\"\n",
    "    x = [x0]\n",
    "    x.append(simple_iteration(f, fder, x0))\n",
    "    niter = 1\n",
    "    while abs((x[niter] - x[niter-1])) > eps and (niter < maxiter):\n",
    "        x.append(simple_iteration(f, fder, x[niter]))\n",
    "        niter += 1\n",
    "    return np.array(x), niter"
   ]
  },
  {
   "cell_type": "code",
   "execution_count": 68,
   "metadata": {},
   "outputs": [],
   "source": [
    "def fun(x):\n",
    "    return x**2 - 2\n",
    "def dfun(x):\n",
    "    return 2*x"
   ]
  },
  {
   "cell_type": "code",
   "execution_count": 69,
   "metadata": {},
   "outputs": [],
   "source": [
    "x, itter = newton_iteration(fun, dfun, 2)"
   ]
  },
  {
   "cell_type": "code",
   "execution_count": 70,
   "metadata": {},
   "outputs": [
    {
     "data": {
      "text/plain": [
       "(5, 4)"
      ]
     },
     "execution_count": 70,
     "metadata": {},
     "output_type": "execute_result"
    }
   ],
   "source": [
    "len(x), itter"
   ]
  },
  {
   "cell_type": "code",
   "execution_count": 73,
   "metadata": {},
   "outputs": [
    {
     "data": {
      "image/png": "[encoded data removed]",
      "text/plain": [
       "<Figure size 460.8x403.2 with 1 Axes>"
      ]
     },
     "metadata": {},
     "output_type": "display_data"
    }
   ],
   "source": [
    "plt.scatter(range(len(x)), np.log((x - 2**0.5)**2), color='red')\n",
    "plt.show()"
   ]
  },
  {
   "cell_type": "markdown",
   "metadata": {},
   "source": [
    "Видно, что сходимость квадратичная."
   ]
  },
  {
   "cell_type": "markdown",
   "metadata": {},
   "source": [
    "# Task3"
   ]
  },
  {
   "cell_type": "markdown",
   "metadata": {},
   "source": [
    "Сначала немного разберемся в sympy"
   ]
  },
  {
   "cell_type": "code",
   "execution_count": 2,
   "metadata": {},
   "outputs": [],
   "source": [
    "import sympy"
   ]
  },
  {
   "cell_type": "code",
   "execution_count": 3,
   "metadata": {},
   "outputs": [],
   "source": [
    "x1, x2 = sympy.symbols('x1 x2')"
   ]
  },
  {
   "cell_type": "code",
   "execution_count": 4,
   "metadata": {},
   "outputs": [
    {
     "data": {
      "text/latex": [
       "$\\displaystyle x_{1}^{2} - 2 x_{2}^{4} + 1$"
      ],
      "text/plain": [
       "x1**2 - 2*x2**4 + 1"
      ]
     },
     "execution_count": 4,
     "metadata": {},
     "output_type": "execute_result"
    }
   ],
   "source": [
    "a1 = x1**2-2*x2**4 +1\n",
    "a1"
   ]
  },
  {
   "cell_type": "code",
   "execution_count": 5,
   "metadata": {},
   "outputs": [
    {
     "data": {
      "text/latex": [
       "$\\displaystyle x_{1} - x_{2}^{3} + 1$"
      ],
      "text/plain": [
       "x1 - x2**3 + 1"
      ]
     },
     "execution_count": 5,
     "metadata": {},
     "output_type": "execute_result"
    }
   ],
   "source": [
    "a2 = x1-x2**3 +1\n",
    "a2"
   ]
  },
  {
   "cell_type": "code",
   "execution_count": 6,
   "metadata": {},
   "outputs": [],
   "source": [
    "f = sympy.Matrix([a1, a2])"
   ]
  },
  {
   "cell_type": "code",
   "execution_count": 7,
   "metadata": {},
   "outputs": [
    {
     "data": {
      "text/latex": [
       "$\\displaystyle \\left[\\begin{matrix}2 x_{1} & - 8 x_{2}^{3}\\\\1 & - 3 x_{2}^{2}\\end{matrix}\\right]$"
      ],
      "text/plain": [
       "Matrix([\n",
       "[2*x1, -8*x2**3],\n",
       "[   1, -3*x2**2]])"
      ]
     },
     "execution_count": 7,
     "metadata": {},
     "output_type": "execute_result"
    }
   ],
   "source": [
    "J = f.jacobian(sympy.Matrix([x1, x2]))\n",
    "J"
   ]
  },
  {
   "cell_type": "code",
   "execution_count": 8,
   "metadata": {},
   "outputs": [
    {
     "data": {
      "text/latex": [
       "$\\displaystyle \\left[\\begin{matrix}2 x_{1} & - 8 x_{2}^{3}\\\\1 & - 3 x_{2}^{2}\\end{matrix}\\right]$"
      ],
      "text/plain": [
       "Matrix([\n",
       "[2*x1, -8*x2**3],\n",
       "[   1, -3*x2**2]])"
      ]
     },
     "execution_count": 8,
     "metadata": {},
     "output_type": "execute_result"
    }
   ],
   "source": [
    "J"
   ]
  },
  {
   "cell_type": "code",
   "execution_count": 26,
   "metadata": {},
   "outputs": [
    {
     "data": {
      "text/latex": [
       "$\\displaystyle \\left[\\begin{matrix}4 & -8\\\\1 & -3\\end{matrix}\\right]$"
      ],
      "text/plain": [
       "Matrix([\n",
       "[4, -8],\n",
       "[1, -3]])"
      ]
     },
     "execution_count": 26,
     "metadata": {},
     "output_type": "execute_result"
    }
   ],
   "source": [
    "J.subs({x1: 2, x2: 1}) #проверяем, все ли работает как надо"
   ]
  },
  {
   "cell_type": "code",
   "execution_count": 10,
   "metadata": {},
   "outputs": [
    {
     "data": {
      "text/plain": [
       "array([[2*x1, -8*x2**3],\n",
       "       [1, -3*x2**2]], dtype=object)"
      ]
     },
     "execution_count": 10,
     "metadata": {},
     "output_type": "execute_result"
    }
   ],
   "source": [
    "np.array(J)"
   ]
  },
  {
   "cell_type": "code",
   "execution_count": 11,
   "metadata": {},
   "outputs": [
    {
     "data": {
      "text/latex": [
       "$\\displaystyle \\left[\\begin{matrix}\\frac{3}{6 x_{1} - 8 x_{2}} & - \\frac{4 x_{2}}{3 x_{1} - 4 x_{2}}\\\\\\frac{1}{6 x_{1} x_{2}^{2} - 8 x_{2}^{3}} & - \\frac{x_{1}}{3 x_{1} x_{2}^{2} - 4 x_{2}^{3}}\\end{matrix}\\right]$"
      ],
      "text/plain": [
       "Matrix([\n",
       "[         3/(6*x1 - 8*x2),        -4*x2/(3*x1 - 4*x2)],\n",
       "[1/(6*x1*x2**2 - 8*x2**3), -x1/(3*x1*x2**2 - 4*x2**3)]])"
      ]
     },
     "execution_count": 11,
     "metadata": {},
     "output_type": "execute_result"
    }
   ],
   "source": [
    "Ji = J.inv()\n",
    "Ji"
   ]
  },
  {
   "cell_type": "code",
   "execution_count": 27,
   "metadata": {},
   "outputs": [],
   "source": [
    "def simple_iteration(x0): #итерации через обратный якобиан\n",
    "    return x0 - np.squeeze(np.array((Ji @ f).subs({x1: x0[0], x2: x0[1]})))"
   ]
  },
  {
   "cell_type": "code",
   "execution_count": 28,
   "metadata": {},
   "outputs": [],
   "source": [
    "def iteration_solver(x0): #итерации через решение системы линейных уравнений\n",
    "    M = np.array(J.subs({x1: x0[0], x2: x0[1]}), dtype='float32')\n",
    "    b = np.squeeze(np.array(f.subs({x1: x0[0], x2: x0[1]}), dtype='float32'))\n",
    "    return np.linalg.solve(M, - b) + x0"
   ]
  },
  {
   "cell_type": "code",
   "execution_count": 14,
   "metadata": {},
   "outputs": [
    {
     "data": {
      "text/plain": [
       "array([-3/8, 7/8], dtype=object)"
      ]
     },
     "execution_count": 14,
     "metadata": {},
     "output_type": "execute_result"
    }
   ],
   "source": [
    "simple_iteration([0, 1])"
   ]
  },
  {
   "cell_type": "code",
   "execution_count": 15,
   "metadata": {},
   "outputs": [
    {
     "data": {
      "text/plain": [
       "array([-0.375,  0.875])"
      ]
     },
     "execution_count": 15,
     "metadata": {},
     "output_type": "execute_result"
    }
   ],
   "source": [
    "iteration_solver([0, 1])"
   ]
  },
  {
   "cell_type": "markdown",
   "metadata": {},
   "source": [
    "Проверили, что два метода дают один и тот же результат, но алгоритмы решения систем линейных уравнений более продвинутые, эффективные, поэтому будем пользоваться ими."
   ]
  },
  {
   "cell_type": "code",
   "execution_count": 23,
   "metadata": {},
   "outputs": [],
   "source": [
    "vec = []\n",
    "x0 = [0, 1]\n",
    "v0 = iteration_solver(x0)\n",
    "vec.append(v0)\n",
    "for i in range(10):\n",
    "    vec.append(iteration_solver(vec[i]))"
   ]
  },
  {
   "cell_type": "code",
   "execution_count": 24,
   "metadata": {},
   "outputs": [
    {
     "data": {
      "text/latex": [
       "$\\displaystyle \\left[\\begin{matrix}-4.44089209850063 \\cdot 10^{-16}\\\\0\\end{matrix}\\right]$"
      ],
      "text/plain": [
       "Matrix([\n",
       "[-4.44089209850063e-16],\n",
       "[                    0]])"
      ]
     },
     "execution_count": 24,
     "metadata": {},
     "output_type": "execute_result"
    }
   ],
   "source": [
    "f.subs({x1: vec[-1][0], x2: vec[-1][1]})"
   ]
  },
  {
   "cell_type": "markdown",
   "metadata": {},
   "source": [
    "Мы действительно нашли решение"
   ]
  },
  {
   "cell_type": "code",
   "execution_count": 25,
   "metadata": {},
   "outputs": [
    {
     "name": "stdout",
     "output_type": "stream",
     "text": [
      "Решением системы: [-0.35119943  0.86570596]\n"
     ]
    }
   ],
   "source": [
    "print('Решением системы:', vec[-1])"
   ]
  },
  {
   "cell_type": "markdown",
   "metadata": {},
   "source": [
    "# Task 4"
   ]
  },
  {
   "cell_type": "markdown",
   "metadata": {},
   "source": [
    "Есть система уравнений $Ax = b$\n",
    "\n",
    "Перепишем матрицу А в сумму диагональной и бездиагональной: $A = D + (A-D)$\n",
    "\n",
    "Тогда уравнение можно переписать $Dx +Ax -Dx = b$\n",
    "\n",
    "Или в итерационной форме\n",
    "\n",
    "$x_{n+1} = D^{-1}(D-A)x{n} + D^{-1}b$\n",
    "\n",
    "То есть в виде $x_{n+1} = Bx{n} + c$, где $B = D^{-1}(D-A), c = D^{-1}b$\n",
    "\n",
    "P.S. \n",
    "Мне кажется в условии ошибка и в скобках должно быть D - A, а не наоборот."
   ]
  },
  {
   "cell_type": "code",
   "execution_count": 29,
   "metadata": {},
   "outputs": [],
   "source": [
    "rnd = np.random.RandomState(1234)\n",
    "n = 10\n",
    "A = rnd.uniform(size=(n, n)) + np.diag([15]*n)\n",
    "b = rnd.uniform(size=n)"
   ]
  },
  {
   "cell_type": "code",
   "execution_count": 50,
   "metadata": {},
   "outputs": [
    {
     "name": "stdout",
     "output_type": "stream",
     "text": [
      "0.36436161983015336\n"
     ]
    }
   ],
   "source": [
    "D = np.array([A[i,i] for i in range(len(A))])\n",
    "B = np.diag(D**-1) @ (np.diag(D) - A)\n",
    "c = np.diag(D**-1) @ b\n",
    "print(np.linalg.norm(B))"
   ]
  },
  {
   "cell_type": "code",
   "execution_count": 97,
   "metadata": {},
   "outputs": [],
   "source": [
    "def iterations(B, c, epsilon=10**(-16)):\n",
    "    x0 = np.ones(n)\n",
    "    x = B @ x0 + c\n",
    "    count = 1\n",
    "    while (np.linalg.norm(x - x0) > epsilon) and count < 1000:\n",
    "        x0 = x\n",
    "        x = B @ x0 + c\n",
    "        count += 1\n",
    "    return x, count"
   ]
  },
  {
   "cell_type": "code",
   "execution_count": 90,
   "metadata": {},
   "outputs": [
    {
     "data": {
      "text/plain": [
       "(array([ 0.03919429,  0.03780037,  0.04283232,  0.02365951,  0.05745031,\n",
       "        -0.00030244, -0.00577279,  0.03177549, -0.00422849,  0.05284648]),\n",
       " 33)"
      ]
     },
     "execution_count": 90,
     "metadata": {},
     "output_type": "execute_result"
    }
   ],
   "source": [
    "x0, count = iterations(B, c)\n",
    "x0, count"
   ]
  },
  {
   "cell_type": "code",
   "execution_count": 91,
   "metadata": {},
   "outputs": [
    {
     "data": {
      "text/plain": [
       "array([-1.11022302e-16,  1.11022302e-16, -1.11022302e-16, -1.11022302e-16,\n",
       "        0.00000000e+00, -1.11022302e-16, -9.71445147e-17, -1.11022302e-16,\n",
       "       -9.71445147e-17,  0.00000000e+00])"
      ]
     },
     "execution_count": 91,
     "metadata": {},
     "output_type": "execute_result"
    }
   ],
   "source": [
    "A @ x0 - b"
   ]
  },
  {
   "cell_type": "markdown",
   "metadata": {},
   "source": [
    "Итерации сходятся, мы получаем правильный ответ.\n",
    "\n",
    "Однако уже тут видно, что итерация нужно относительно много, что бы получить ответ с хорошей точностью.\n",
    "Посмотрим, как будет вести себя сходимость, если мы будет делать матрицу менее диагонально выраженной."
   ]
  },
  {
   "cell_type": "code",
   "execution_count": 104,
   "metadata": {},
   "outputs": [],
   "source": [
    "numbers = []\n",
    "norms = []\n",
    "for i in range(15, 1, -1):\n",
    "    A = rnd.uniform(size=(n, n)) + np.diag([i]*n)\n",
    "    D = np.array([A[i,i] for i in range(len(A))])\n",
    "    B = np.diag(D**-1) @ (np.diag(D) - A)\n",
    "    c = np.diag(D**-1) @ b\n",
    "    \n",
    "    numbers.append(iterations(B, c)[1])\n",
    "    norms.append(np.linalg.norm(B))"
   ]
  },
  {
   "cell_type": "code",
   "execution_count": 102,
   "metadata": {},
   "outputs": [
    {
     "data": {
      "image/png": "[encoded data removed]",
      "text/plain": [
       "<Figure size 432x288 with 1 Axes>"
      ]
     },
     "metadata": {
      "needs_background": "light"
     },
     "output_type": "display_data"
    }
   ],
   "source": [
    "plt.scatter(range(15, 1, -1), numbers)\n",
    "plt.show()"
   ]
  },
  {
   "cell_type": "markdown",
   "metadata": {},
   "source": [
    "Видно, количество итерация для получения заданной точности растет экспоненциально, и уже когда средний модуль диагонального элемента отличается примерно в 4 раза нужно более 1000 итераций. Для вектора из 10-и элементов это слишклм много."
   ]
  },
  {
   "cell_type": "code",
   "execution_count": 110,
   "metadata": {},
   "outputs": [
    {
     "data": {
      "image/png": "[encoded data removed]",
      "text/plain": [
       "<Figure size 432x288 with 1 Axes>"
      ]
     },
     "metadata": {
      "needs_background": "light"
     },
     "output_type": "display_data"
    }
   ],
   "source": [
    "plt.scatter(range(15, 1, -1), norms)\n",
    "plt.show()"
   ]
  },
  {
   "cell_type": "markdown",
   "metadata": {},
   "source": [
    "Норма матрицы тоже растет экспоненциально. "
   ]
  }
 ],
 "metadata": {
  "kernelspec": {
   "display_name": "Python 3",
   "language": "python",
   "name": "python3"
  },
  "language_info": {
   "codemirror_mode": {
    "name": "ipython",
    "version": 3
   },
   "file_extension": ".py",
   "mimetype": "text/x-python",
   "name": "python",
   "nbconvert_exporter": "python",
   "pygments_lexer": "ipython3",
   "version": "3.8.3"
  }
 },
 "nbformat": 4,
 "nbformat_minor": 4
}
